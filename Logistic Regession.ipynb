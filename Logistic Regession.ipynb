{
 "cells": [
  {
   "cell_type": "code",
   "execution_count": 16,
   "metadata": {},
   "outputs": [],
   "source": [
    "import pandas as pd\n",
    "import numpy as np\n",
    "from sklearn.model_selection import train_test_split\n",
    "from sklearn import svm\n",
    "from sklearn.metrics import confusion_matrix\n",
    "from sklearn.metrics import accuracy_score,recall_score,f1_score\n",
    "from imblearn.over_sampling import SMOTE\n",
    "from imblearn.combine import SMOTETomek\n",
    "from sklearn.model_selection import KFold,GridSearchCV\n",
    "from sklearn.linear_model import LogisticRegression\n",
    "from sklearn import preprocessing\n",
    "import warnings\n",
    "warnings.filterwarnings('ignore')"
   ]
  },
  {
   "cell_type": "code",
   "execution_count": 2,
   "metadata": {},
   "outputs": [],
   "source": [
    "df = pd.read_csv('mydata.csv')"
   ]
  },
  {
   "cell_type": "code",
   "execution_count": 3,
   "metadata": {},
   "outputs": [],
   "source": [
    "y=df.Accident_Severity\n",
    "df = df.drop(['Accident_Severity'], axis=1)"
   ]
  },
  {
   "cell_type": "code",
   "execution_count": 20,
   "metadata": {},
   "outputs": [],
   "source": [
    "X = df.values"
   ]
  },
  {
   "cell_type": "code",
   "execution_count": 21,
   "metadata": {},
   "outputs": [],
   "source": [
    "X_train, X_test, y_train, y_test = train_test_split(\n",
    "    X, y, test_size=0.2, random_state=42)"
   ]
  },
  {
   "cell_type": "code",
   "execution_count": 6,
   "metadata": {},
   "outputs": [],
   "source": [
    "logistic_regression=LogisticRegression(class_weight=\"balanced\",solver=\"newton-cg\")"
   ]
  },
  {
   "cell_type": "code",
   "execution_count": 7,
   "metadata": {},
   "outputs": [],
   "source": [
    "from sklearn.metrics import recall_score\n",
    "from sklearn.metrics import  make_scorer\n",
    "recall_scorer = make_scorer(recall_score,average=\"micro\")"
   ]
  },
  {
   "cell_type": "code",
   "execution_count": 8,
   "metadata": {},
   "outputs": [
    {
     "data": {
      "text/plain": [
       "GridSearchCV(cv=10, error_score='raise-deprecating',\n",
       "       estimator=LogisticRegression(C=1.0, class_weight='balanced', dual=False,\n",
       "          fit_intercept=True, intercept_scaling=1, max_iter=100,\n",
       "          multi_class='warn', n_jobs=None, penalty='l2', random_state=None,\n",
       "          solver='newton-cg', tol=0.0001, verbose=0, warm_start=False),\n",
       "       fit_params=None, iid='warn', n_jobs=None,\n",
       "       param_grid={'C': [1e-05, 0.0001]}, pre_dispatch='2*n_jobs',\n",
       "       refit=True, return_train_score='warn',\n",
       "       scoring=make_scorer(recall_score, average=micro), verbose=0)"
      ]
     },
     "execution_count": 8,
     "metadata": {},
     "output_type": "execute_result"
    }
   ],
   "source": [
    "grid={\"C\":[0.00001,0.0001]}\n",
    "\n",
    "logistic_regression_cv=GridSearchCV(logistic_regression,grid,cv=10,scoring=recall_scorer)\n",
    "logistic_regression_cv.fit(X,y)"
   ]
  },
  {
   "cell_type": "code",
   "execution_count": 9,
   "metadata": {},
   "outputs": [
    {
     "name": "stdout",
     "output_type": "stream",
     "text": [
      "tuned hpyerparameters :(best parameters)  {'C': 0.0001}\n"
     ]
    }
   ],
   "source": [
    "print(\"tuned hpyerparameters :(best parameters) \",logistic_regression_cv.best_params_)"
   ]
  },
  {
   "cell_type": "code",
   "execution_count": 10,
   "metadata": {},
   "outputs": [],
   "source": [
    "kf = KFold(n_splits=10)"
   ]
  },
  {
   "cell_type": "code",
   "execution_count": 14,
   "metadata": {},
   "outputs": [],
   "source": [
    "def normalize(z):\n",
    "    x = z.values #returns a numpy array\n",
    "    min_max_scaler = preprocessing.MinMaxScaler()\n",
    "    x_scaled = min_max_scaler.fit_transform(np.vstack(x))\n",
    "    return x_scaled"
   ]
  },
  {
   "cell_type": "code",
   "execution_count": 17,
   "metadata": {},
   "outputs": [],
   "source": [
    "for i in range(0,9):\n",
    "    df.iloc[:,i]=normalize(df.iloc[:,i])"
   ]
  },
  {
   "cell_type": "code",
   "execution_count": 22,
   "metadata": {},
   "outputs": [
    {
     "name": "stdout",
     "output_type": "stream",
     "text": [
      "Train \t\t\t Test\n",
      "0.538779479699 \t 0.569868995633\n",
      "0.538162372387 \t 0.599562363239\n",
      "0.538648517258 \t 0.577680525164\n",
      "0.540350024307 \t 0.536105032823\n",
      "0.548128342246 \t 0.514223194748\n",
      "0.545940690326 \t 0.505470459519\n",
      "0.543266893534 \t 0.507658643326\n",
      "0.546669907632 \t 0.496717724289\n",
      "0.54132231405 \t 0.562363238512\n",
      "0.546183762761 \t 0.540481400438\n"
     ]
    }
   ],
   "source": [
    "# Grid search cross validation \n",
    "\n",
    "print(\"Train \\t\\t\\t Test\")\n",
    "for train_index, test_index in kf.split(X):\n",
    "    X_train, X_test = X[train_index], X[test_index]\n",
    "    y_train, y_test = y[train_index], y[test_index]\n",
    "    logistic_regression=LogisticRegression(class_weight=\"balanced\",C=0.0001,solver=\"newton-cg\")\n",
    "    logistic_regression.fit(X_train,y_train)\n",
    "    y_ = logistic_regression.predict(X_test)\n",
    "\n",
    "    y_pred = logistic_regression.predict(X_train)\n",
    "    \n",
    "    print(accuracy_score(y_train,y_pred),\"\\t\",accuracy_score(y_test,y_))\n"
   ]
  },
  {
   "cell_type": "code",
   "execution_count": 23,
   "metadata": {},
   "outputs": [
    {
     "data": {
      "text/plain": [
       "array([[  4,   1,   2],\n",
       "       [ 22,   4,  45],\n",
       "       [120,  20, 239]])"
      ]
     },
     "execution_count": 23,
     "metadata": {},
     "output_type": "execute_result"
    }
   ],
   "source": [
    "confusion_matrix(y_test,y_,labels=[1,2,3])"
   ]
  },
  {
   "cell_type": "code",
   "execution_count": 7,
   "metadata": {},
   "outputs": [],
   "source": [
    "clf = svm.SVC(class_weight=\"balanced\")"
   ]
  },
  {
   "cell_type": "code",
   "execution_count": null,
   "metadata": {},
   "outputs": [],
   "source": [
    "grid={\"C\":[30,100],\"gamma\":[0,1]}\n",
    "\n",
    "clf_cv=GridSearchCV(clf,grid,cv=5,scoring= recall_scorer)\n",
    "clf_cv.fit(X,y)"
   ]
  },
  {
   "cell_type": "code",
   "execution_count": null,
   "metadata": {},
   "outputs": [],
   "source": [
    "clf_cv.best_params_"
   ]
  },
  {
   "cell_type": "markdown",
   "metadata": {},
   "source": [
    "Let's check out SVM"
   ]
  },
  {
   "cell_type": "code",
   "execution_count": 13,
   "metadata": {},
   "outputs": [
    {
     "name": "stdout",
     "output_type": "stream",
     "text": [
      "Train \t\t\t Test\n",
      "0.53537563822 \t 0.576419213974\n",
      "0.520661157025 \t 0.544857768053\n",
      "0.537190082645 \t 0.579868708972\n",
      "0.545940690326 \t 0.557986870897\n",
      "0.546426835197 \t 0.505470459519\n",
      "0.553475935829 \t 0.494529540481\n",
      "0.556392805056 \t 0.520787746171\n",
      "0.551288283909 \t 0.501094091904\n",
      "0.537676227516 \t 0.564551422319\n",
      "0.540836169178 \t 0.536105032823\n"
     ]
    }
   ],
   "source": [
    "\n",
    "print(\"Train \\t\\t\\t Test\")\n",
    "for train_index, test_index in kf.split(X):\n",
    "    X_train, X_test = X[train_index], X[test_index]\n",
    "    y_train, y_test = y[train_index], y[test_index]\n",
    "    clf = svm.SVC(gamma=0.001,C=0.1,class_weight=\"balanced\",kernel=\"linear\")\n",
    "    clf.fit(X_train, y_train) \n",
    "    y_ = clf.predict(X_test)\n",
    "\n",
    "    y_pred = clf.predict(X_train)\n",
    "    \n",
    "    print(accuracy_score(y_train,y_pred),\"\\t\",accuracy_score(y_test,y_))\n"
   ]
  },
  {
   "cell_type": "code",
   "execution_count": 10,
   "metadata": {},
   "outputs": [
    {
     "data": {
      "text/plain": [
       "array([[  4,   1,   2],\n",
       "       [ 17,  10,  44],\n",
       "       [ 90,  58, 231]])"
      ]
     },
     "execution_count": 10,
     "metadata": {},
     "output_type": "execute_result"
    }
   ],
   "source": [
    "confusion_matrix(y_test,y_,labels=[1,2,3])"
   ]
  },
  {
   "cell_type": "code",
   "execution_count": null,
   "metadata": {},
   "outputs": [],
   "source": []
  }
 ],
 "metadata": {
  "kernelspec": {
   "display_name": "Python 3",
   "language": "python",
   "name": "python3"
  },
  "language_info": {
   "codemirror_mode": {
    "name": "ipython",
    "version": 3
   },
   "file_extension": ".py",
   "mimetype": "text/x-python",
   "name": "python",
   "nbconvert_exporter": "python",
   "pygments_lexer": "ipython3",
   "version": "3.6.7"
  }
 },
 "nbformat": 4,
 "nbformat_minor": 2
}
